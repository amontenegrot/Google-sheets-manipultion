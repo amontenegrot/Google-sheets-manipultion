{
  "nbformat": 4,
  "nbformat_minor": 0,
  "metadata": {
    "colab": {
      "name": "Actualización de solicitudes.ipynb",
      "provenance": [],
      "collapsed_sections": []
    },
    "kernelspec": {
      "name": "python3",
      "display_name": "Python 3"
    },
    "language_info": {
      "name": "python"
    }
  },
  "cells": [
    {
      "cell_type": "code",
      "execution_count": 305,
      "metadata": {
        "id": "NdfKWe1WpSuk"
      },
      "outputs": [],
      "source": [
        "from google.colab import auth\n",
        "auth.authenticate_user()\n",
        "\n",
        "import gspread\n",
        "from google.auth import default\n",
        "creds, _ = default()\n",
        "\n",
        "gc = gspread.authorize(creds)"
      ]
    },
    {
      "cell_type": "code",
      "source": [
        "import os\n",
        "import numpy as np\n",
        "import pandas as pd"
      ],
      "metadata": {
        "id": "_4e8Tgq-pase"
      },
      "execution_count": 306,
      "outputs": []
    },
    {
      "cell_type": "code",
      "source": [
        "def get_row_data(google_sheet_url, sheet):\n",
        "  # Get data\n",
        "  wb = gc.open_by_url(google_sheet_url)\n",
        "  sheet_value = wb.worksheet(sheet)\n",
        "  data = sheet_value.get_all_values()\n",
        "\n",
        "  # create DataFrame\n",
        "  df = pd.DataFrame(data)\n",
        "  df.columns = df.iloc[0]\n",
        "  df = df.iloc[1:]\n",
        "\n",
        "  return df"
      ],
      "metadata": {
        "id": "N0ACOUVbKBy9"
      },
      "execution_count": 307,
      "outputs": []
    },
    {
      "cell_type": "code",
      "source": [
        "def get_code(module, option, topic, subtopic, subsubtopic):\n",
        "\n",
        "  if subtopic == 'NA':\n",
        "    code = f'{module} {option} {topic}'\n",
        "    return code\n",
        "  elif subsubtopic == 'NA':\n",
        "    code = f'{module} {option} {topic} {subtopic}'\n",
        "    return code\n",
        "  else:\n",
        "    code = f'{module} {option} {topic} {subtopic} {subsubtopic}'\n",
        "    return code"
      ],
      "metadata": {
        "id": "FmsqfLSCS_8M"
      },
      "execution_count": 308,
      "outputs": []
    },
    {
      "cell_type": "markdown",
      "source": [
        "# Read data"
      ],
      "metadata": {
        "id": "JjPrewxSfbF_"
      }
    },
    {
      "cell_type": "code",
      "source": [
        "PATH = '/content/drive/MyDrive/BOT COMUNICACIÓNES ECCI/'\n",
        "\n",
        "TABLE_OF_CONTENTS = 'URL GOOGLE SHEETS'\n",
        "FORM_ANSWERS = 'URL GOOGLE SHEETS'"
      ],
      "metadata": {
        "id": "VpIZ6UxYLE1B"
      },
      "execution_count": 309,
      "outputs": []
    },
    {
      "cell_type": "code",
      "source": [
        "dfTab3 = get_row_data(TABLE_OF_CONTENTS, 'TABLA 3')\n",
        "\n",
        "dfAnswers = get_row_data(FORM_ANSWERS, 'Respuestas de formulario 1')"
      ],
      "metadata": {
        "id": "jdfJOR5-LoAK"
      },
      "execution_count": 310,
      "outputs": []
    },
    {
      "cell_type": "markdown",
      "source": [
        "# Preprocesing"
      ],
      "metadata": {
        "id": "GaLYh-6ouWSM"
      }
    },
    {
      "cell_type": "code",
      "source": [
        "dfAnswers['MÓDULO'] = dfAnswers['MÓDULO'].replace(\n",
        "    {'Pregrado estudiante antiguo':'1',\n",
        "     'Posgrado estudiante antiguo':'2',\n",
        "     'Aspirante':'3',\n",
        "     'Educación continua':'4',\n",
        "     'Centro de lenguas':'5'})"
      ],
      "metadata": {
        "id": "8QlBnktHYuX_"
      },
      "execution_count": 311,
      "outputs": []
    },
    {
      "cell_type": "code",
      "source": [
        "dfTab3['Index'] = dfTab3.index"
      ],
      "metadata": {
        "id": "Pzx9qfLGuUcm"
      },
      "execution_count": 312,
      "outputs": []
    },
    {
      "cell_type": "markdown",
      "source": [
        "# Analysis"
      ],
      "metadata": {
        "id": "s3v-8bSGuYgt"
      }
    },
    {
      "cell_type": "code",
      "source": [
        "for i in range(len(dfAnswers)):\n",
        "  module, option, topic = dfAnswers[['MÓDULO', 'OPCIÓN DEL MÓDULO', 'TEMA']].iloc[i]\n",
        "  subtopic, subsubtopic = dfAnswers[['SUBTEMA', 'SUBSUBTEMA']].iloc[i]\n",
        "  date, form_type, update, person = dfAnswers[['Marca temporal', 'TIPO DE SOLICITUD', 'ACTUALIZACIÓN', 'RESPONSABLE']].iloc[i]\n",
        "\n",
        "  code = get_code(module, option, topic, subtopic, subsubtopic)\n",
        "\n",
        "  query_ids = code.split(' ')\n",
        "\n",
        "  size_list = len(query_ids)\n",
        "\n",
        "  if size_list == 3:\n",
        "    module = query_ids[0]\n",
        "    option = query_ids[1]\n",
        "    topic = query_ids[2]\n",
        "\n",
        "    index_value = dfTab3.index[(dfTab3['ID - MODULO'] == module) & (dfTab3['OPCIÓN'] == option) & (dfTab3['TEMA'] == topic)].tolist()\n",
        "    index_value = index_value[0]\n",
        "\n",
        "    dfTab3.at[index_value, 'FECHA'] = date\n",
        "    dfTab3.at[index_value, 'TIPO DE SOLICITUD'] = form_type\n",
        "    dfTab3.at[index_value, 'ACTUALIZACIÓN'] = update\n",
        "    dfTab3.at[index_value, 'RESPONSABLE'] = person\n",
        "\n",
        "  elif size_list == 4:\n",
        "    module = query_ids[0]\n",
        "    option = query_ids[1]\n",
        "    topic = query_ids[2]\n",
        "    subtopic = query_ids[3]\n",
        "    \n",
        "    index_value = dfTab3.index[(dfTab3['ID - MODULO'] == module) & (dfTab3['OPCIÓN'] == option) & (dfTab3['TEMA'] == topic) & (dfTab3['SUBTEMA'] == subtopic)].tolist()\n",
        "    index_value = index_value[0]\n",
        "    \n",
        "    dfTab3.at[index_value, 'FECHA'] = date\n",
        "    dfTab3.at[index_value, 'TIPO DE SOLICITUD'] = form_type\n",
        "    dfTab3.at[index_value, 'ACTUALIZACIÓN'] = update\n",
        "    dfTab3.at[index_value, 'RESPONSABLE'] = person\n",
        "\n",
        "  elif size_list == 5:\n",
        "    module = query_ids[0]\n",
        "    option = query_ids[1]\n",
        "    topic = query_ids[2]\n",
        "    subtopic = query_ids[3]\n",
        "    subsubtopic = query_ids[4]\n",
        "    \n",
        "    index_value = dfTab3.index[(dfTab3['ID - MODULO'] == module) & (dfTab3['OPCIÓN'] == option) & (dfTab3['TEMA'] == topic) & (dfTab3['SUBTEMA'] == subtopic) & (dfTab3['SUBSUBTEMA'] == subsubtopic)].tolist()\n",
        "    index_value = index_value[0]\n",
        "    \n",
        "    dfTab3.at[index_value, 'FECHA'] = date\n",
        "    dfTab3.at[index_value, 'TIPO DE SOLICITUD'] = form_type\n",
        "    dfTab3.at[index_value, 'ACTUALIZACIÓN'] = update\n",
        "    dfTab3.at[index_value, 'RESPONSABLE'] = person"
      ],
      "metadata": {
        "colab": {
          "base_uri": "https://localhost:8080/"
        },
        "id": "G87ikiE9NLsu",
        "outputId": "03524fd6-6774-4e32-c371-d879c5a2a47b"
      },
      "execution_count": 316,
      "outputs": [
        {
          "output_type": "stream",
          "name": "stdout",
          "text": [
            "['1', '2', '3']\n",
            "['1', '1', '1']\n",
            "['1', '2', '4']\n",
            "['1', '2', '8']\n",
            "['1', '2', '10']\n",
            "['1', '1', '1']\n"
          ]
        }
      ]
    },
    {
      "cell_type": "markdown",
      "source": [
        "# Save"
      ],
      "metadata": {
        "id": "6w820cCp6hXO"
      }
    },
    {
      "cell_type": "code",
      "source": [
        "columns_drop = ['Index']\n",
        "\n",
        "for i in columns_drop:\n",
        "    dfTab3.drop([i], axis = 1, inplace=True)"
      ],
      "metadata": {
        "id": "ThdG90Lm6lVo"
      },
      "execution_count": 317,
      "outputs": []
    },
    {
      "cell_type": "code",
      "source": [
        "dfTab3.to_excel(PATH + 'actualización.xlsx', index=False)"
      ],
      "metadata": {
        "id": "xHnDtkv-4CKe"
      },
      "execution_count": 318,
      "outputs": []
    }
  ]
}
